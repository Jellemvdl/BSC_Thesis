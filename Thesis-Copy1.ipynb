{
 "cells": [
  {
   "cell_type": "markdown",
   "metadata": {},
   "source": [
    "# Initialization dataset & tokenizer"
   ]
  },
  {
   "cell_type": "code",
   "execution_count": 1,
   "metadata": {},
   "outputs": [
    {
     "name": "stderr",
     "output_type": "stream",
     "text": [
      "/home/jelle-van-der-lee/.local/lib/python3.6/site-packages/requests/__init__.py:104: RequestsDependencyWarning: urllib3 (1.26.13) or chardet (5.0.0)/charset_normalizer (2.0.12) doesn't match a supported version!\n",
      "  RequestsDependencyWarning)\n"
     ]
    }
   ],
   "source": [
    "# !pip install datasets\n",
    "# !pip install transformers\n",
    "\n",
    "from datasets import load_dataset\n",
    "from transformers import AutoTokenizer"
   ]
  },
  {
   "cell_type": "code",
   "execution_count": 28,
   "metadata": {},
   "outputs": [
    {
     "name": "stderr",
     "output_type": "stream",
     "text": [
      "Reusing dataset quac (/home/jelle-van-der-lee/.cache/huggingface/datasets/quac/plain_text/1.1.0/4170258e7e72d7c81bd6441b3f3489ea1544f0ff226ce61e22bb00c6e9d01fb6)\n"
     ]
    },
    {
     "data": {
      "application/vnd.jupyter.widget-view+json": {
       "model_id": "3f939b9192c14903aa8978ec0ba1e9cf",
       "version_major": 2,
       "version_minor": 0
      },
      "text/plain": [
       "  0%|          | 0/2 [00:00<?, ?it/s]"
      ]
     },
     "metadata": {},
     "output_type": "display_data"
    }
   ],
   "source": [
    "quac = load_dataset(\"quac\")\n",
    "tokenizer = AutoTokenizer.from_pretrained(\"bert-base-uncased\")\n",
    "\n",
    "# tokenizer = AutoTokenizer.from_pretrained(\"bert-large-uncased\")"
   ]
  },
  {
   "cell_type": "code",
   "execution_count": 29,
   "metadata": {},
   "outputs": [
    {
     "data": {
      "text/plain": [
       "PreTrainedTokenizerFast(name_or_path='bert-base-uncased', vocab_size=30522, model_max_len=512, is_fast=True, padding_side='right', truncation_side='right', special_tokens={'unk_token': '[UNK]', 'sep_token': '[SEP]', 'pad_token': '[PAD]', 'cls_token': '[CLS]', 'mask_token': '[MASK]'})"
      ]
     },
     "execution_count": 29,
     "metadata": {},
     "output_type": "execute_result"
    }
   ],
   "source": [
    "tokenizer"
   ]
  },
  {
   "cell_type": "markdown",
   "metadata": {},
   "source": [
    "# Data Preprocessing\n"
   ]
  },
  {
   "cell_type": "code",
   "execution_count": 3,
   "metadata": {},
   "outputs": [],
   "source": [
    "import pandas as pd\n",
    "\n",
    "quac_new = quac.remove_columns(('background', 'followups', 'yesnos', 'orig_answers', 'wikipedia_page_title'))\n",
    "\n",
    "quac_train = pd.DataFrame.from_dict(quac_new[\"train\"])\n",
    "quac_val = pd.DataFrame.from_dict(quac_new[\"validation\"])"
   ]
  },
  {
   "cell_type": "code",
   "execution_count": 4,
   "metadata": {},
   "outputs": [],
   "source": [
    "def define_prevQA(row):\n",
    "    prev_QA = []\n",
    "    prev_QA_2 = []\n",
    "    for i in range(len(row['questions'])):\n",
    "        if i == 0:\n",
    "            prev_QA = prev_QA + [ [ [ [] , [] ] ] ]\n",
    "        else:\n",
    "            prev_QA_2 = prev_QA_2 + [ [ [row['questions'][i-1]] , [row['answers']['texts'][i-1]] ] ]\n",
    "            prev_QA = prev_QA + [ prev_QA_2 ]\n",
    "\n",
    "    return prev_QA\n",
    "\n",
    "quac_train['prev_QA'] = quac_train.apply(lambda row: define_prevQA(row), axis=1)\n",
    "quac_val['prev_QA'] = quac_val.apply(lambda row: define_prevQA(row), axis=1)"
   ]
  },
  {
   "cell_type": "code",
   "execution_count": 5,
   "metadata": {},
   "outputs": [],
   "source": [
    "def explode(df):\n",
    "    df['tmp']=df.apply(lambda row: list(zip(row['questions'],row['turn_ids'],row['texts'],row['answer_starts'],row['prev_QA'])), axis=1) \n",
    "    df=df.explode('tmp')\n",
    "    df[['questions','turn_ids', 'texts', 'answer_starts', 'prev_QA']]=pd.DataFrame(df['tmp'].tolist(), index=df.index)\n",
    "    df.drop(columns='tmp', inplace=True)\n",
    "    return df"
   ]
  },
  {
   "cell_type": "code",
   "execution_count": 6,
   "metadata": {},
   "outputs": [],
   "source": [
    "quac_train = quac_train.join(pd.DataFrame(quac_train.pop('answers').values.tolist()))\n",
    "quac_val = quac_val.join(pd.DataFrame(quac_val.pop('answers').values.tolist()))\n",
    "\n",
    "# quac_train = quac_train.explode(['questions','turn_ids', 'texts', 'answer_starts', 'prev_QA'])\n",
    "# quac_val = quac_val.explode(['questions','turn_ids', 'texts', 'answer_starts', 'prev_QA'])\n",
    "quac_train = explode(quac_train)\n",
    "quac_val = explode(quac_val)\n",
    "\n",
    "quac_train = quac_train.reset_index(drop=True)\n",
    "quac_val = quac_val.reset_index(drop=True)\n",
    "\n",
    "quac_train.rename(columns={'questions': 'question', 'texts': 'text', 'answer_starts': 'answer_start'}, inplace=True)\n",
    "quac_val.rename(columns={'questions': 'question', 'texts': 'text', 'answer_starts': 'answer_start'}, inplace=True)"
   ]
  },
  {
   "cell_type": "code",
   "execution_count": 7,
   "metadata": {},
   "outputs": [],
   "source": [
    "answer_columns = ['text', 'answer_start']\n",
    "\n",
    "quac_train['answers'] = quac_train[answer_columns].to_dict(orient='records')\n",
    "quac_val['answers'] = quac_val[answer_columns].to_dict(orient='records')\n",
    "\n",
    "quac_train = quac_train.drop(columns=answer_columns)\n",
    "quac_val = quac_val.drop(columns=answer_columns)"
   ]
  },
  {
   "cell_type": "code",
   "execution_count": 8,
   "metadata": {},
   "outputs": [],
   "source": [
    "# Change turn ids (long unique number) to question nr of dialogue \n",
    "quac_train['turn_ids'] = quac_train['turn_ids'].str[-1:] \n",
    "quac_val['turn_ids'] = quac_val['turn_ids'].str[-1:]\n",
    "\n",
    "quac_train['turn_ids'] = quac_train['turn_ids'].astype('int')\n",
    "quac_val['turn_ids'] = quac_val['turn_ids'].astype('int')\n",
    "\n",
    "quac_train['turn_ids'] = quac_train['turn_ids'] + 1\n",
    "quac_val['turn_ids'] = quac_val['turn_ids'] + 1\n",
    "quac_train.rename(columns={'turn_ids': 'question_no'}, inplace=True)\n",
    "quac_val.rename(columns={'turn_ids': 'question_no'}, inplace=True)"
   ]
  },
  {
   "cell_type": "markdown",
   "metadata": {},
   "source": [
    "# Fine-tune model"
   ]
  },
  {
   "cell_type": "code",
   "execution_count": 26,
   "metadata": {},
   "outputs": [],
   "source": [
    "from transformers import AutoTokenizer\n",
    "\n",
    "# tokenizer = AutoTokenizer.from_pretrained(\"bert-base-uncased\")\n",
    "# tokenizer = AutoTokenizer.from_pretrained(\"bert-base-uncased\", model_max_length=512)\n",
    "\n",
    "# tokenizer = AutoTokenizer.from_pretrained(\"bert-large-uncased\", model_max_length=512)"
   ]
  },
  {
   "cell_type": "code",
   "execution_count": 10,
   "metadata": {},
   "outputs": [],
   "source": [
    "pad_on_right = tokenizer.padding_side == \"right\""
   ]
  },
  {
   "cell_type": "code",
   "execution_count": 11,
   "metadata": {},
   "outputs": [],
   "source": [
    "max_length = 384\n",
    "doc_stride = 128\n",
    "def prepare_train_features(examples):\n",
    "    # Some of the questions have lots of whitespace on the left, which is not useful and will make the\n",
    "    # truncation of the context fail (the tokenized question will take a lots of space). So we remove that\n",
    "    # left whitespace\n",
    "    examples[\"question\"] = [q.lstrip() for q in examples[\"question\"]]\n",
    "\n",
    "    # Tokenize our examples with truncation and padding, but keep the overflows using a stride. This results\n",
    "    # in one example possible giving several features when a context is long, each of those features having a\n",
    "    # context that overlaps a bit the context of the previous feature.\n",
    "    tokenized_examples = tokenizer(\n",
    "        examples[\"question\" if pad_on_right else \"context\"],\n",
    "        examples[\"context\" if pad_on_right else \"question\"],\n",
    "        truncation=\"only_second\" if pad_on_right else \"only_first\",\n",
    "        max_length=max_length,\n",
    "        stride=doc_stride,\n",
    "        return_overflowing_tokens=True,\n",
    "        return_offsets_mapping=True,\n",
    "        padding=\"max_length\",\n",
    "    )\n",
    "\n",
    "    # Since one example might give us several features if it has a long context, we need a map from a feature to\n",
    "    # its corresponding example. This key gives us just that.\n",
    "    sample_mapping = tokenized_examples.pop(\"overflow_to_sample_mapping\")\n",
    "    # The offset mappings will give us a map from token to character position in the original context. This will\n",
    "    # help us compute the start_positions and end_positions.\n",
    "    offset_mapping = tokenized_examples.pop(\"offset_mapping\")\n",
    "    # Let's label those examples!\n",
    "    tokenized_examples[\"start_positions\"] = []\n",
    "    tokenized_examples[\"end_positions\"] = []\n",
    "\n",
    "    for i, offsets in enumerate(offset_mapping):\n",
    "        # We will label impossible answers with the index of the CLS token.\n",
    "        input_ids = tokenized_examples[\"input_ids\"][i]\n",
    "        cls_index = input_ids.index(tokenizer.cls_token_id)\n",
    "\n",
    "        # Grab the sequence corresponding to that example (to know what is the context and what is the question).\n",
    "        sequence_ids = tokenized_examples.sequence_ids(i)\n",
    "\n",
    "        # One example can give several spans, this is the index of the example containing this span of text.\n",
    "        sample_index = sample_mapping[i]\n",
    "        answers = examples[\"answers\"][sample_index]\n",
    "        # If no answers are given, set the cls_index as answer.\n",
    "        if len(answers[\"answer_start\"]) == 0:\n",
    "            tokenized_examples[\"start_positions\"].append(cls_index)\n",
    "            tokenized_examples[\"end_positions\"].append(cls_index)\n",
    "        else:\n",
    "            # Start/end character index of the answer in the text.\n",
    "            start_char = answers[\"answer_start\"][0]\n",
    "            end_char = start_char + len(answers[\"text\"][0])\n",
    "\n",
    "            # Start token index of the current span in the text.\n",
    "            token_start_index = 0\n",
    "            while sequence_ids[token_start_index] != (1 if pad_on_right else 0):\n",
    "                token_start_index += 1\n",
    "\n",
    "            # End token index of the current span in the text.\n",
    "            token_end_index = len(input_ids) - 1\n",
    "            while sequence_ids[token_end_index] != (1 if pad_on_right else 0):\n",
    "                token_end_index -= 1\n",
    "\n",
    "            # Detect if the answer is out of the span (in which case this feature is labeled with the CLS index).\n",
    "            if not (offsets[token_start_index][0] <= start_char and offsets[token_end_index][1] >= end_char):\n",
    "                tokenized_examples[\"start_positions\"].append(cls_index)\n",
    "                tokenized_examples[\"end_positions\"].append(cls_index)\n",
    "            else:\n",
    "                # Otherwise move the token_start_index and token_end_index to the two ends of the answer.\n",
    "                # Note: we could go after the last offset if the answer is the last word (edge case).\n",
    "                while token_start_index < len(offsets) and offsets[token_start_index][0] <= start_char:\n",
    "                    token_start_index += 1\n",
    "                tokenized_examples[\"start_positions\"].append(token_start_index - 1)\n",
    "                while offsets[token_end_index][1] >= end_char:\n",
    "                    token_end_index -= 1\n",
    "                tokenized_examples[\"end_positions\"].append(token_end_index + 1)\n",
    "\n",
    "    return tokenized_examples"
   ]
  },
  {
   "cell_type": "code",
   "execution_count": 12,
   "metadata": {},
   "outputs": [],
   "source": [
    "def preprocess_function(examples):\n",
    "    questions = [q.strip() for q in examples[\"question\"]]\n",
    "\n",
    "    inputs = tokenizer(\n",
    "        questions,\n",
    "        examples[\"context\"],\n",
    "        max_length=384,\n",
    "        truncation=\"only_second\",\n",
    "        return_offsets_mapping=True,\n",
    "        padding=\"max_length\",\n",
    "    )\n",
    "\n",
    "    offset_mapping = inputs.pop(\"offset_mapping\")\n",
    "    answers = examples[\"answers\"]\n",
    "    start_positions = []\n",
    "    end_positions = []\n",
    "\n",
    "    for i, offset in enumerate(offset_mapping):\n",
    "        answer = answers[i] \n",
    "        start_char = answer[\"answer_start\"][0]\n",
    "        end_char = answer[\"answer_start\"][0] + len(answer[\"text\"][0])\n",
    "        sequence_ids = inputs.sequence_ids(i)\n",
    "        # Find the start and end of the context\n",
    "        idx = 0\n",
    "        while sequence_ids[idx] != 1:\n",
    "            idx += 1\n",
    "        context_start = idx\n",
    "        while sequence_ids[idx] == 1:\n",
    "            idx += 1\n",
    "        context_end = idx - 1\n",
    "\n",
    "        # If the answer is not fully inside the context, label it (0, 0)\n",
    "        if offset[context_start][0] > end_char or offset[context_end][1] < start_char:\n",
    "            start_positions.append(0)\n",
    "            end_positions.append(0)\n",
    "        else:\n",
    "            # Otherwise it's the start and end token positions\n",
    "            idx = context_start\n",
    "            while idx <= context_end and offset[idx][0] <= start_char:\n",
    "                idx += 1\n",
    "            start_positions.append(idx - 1)\n",
    "\n",
    "            idx = context_end\n",
    "            while idx >= context_start and offset[idx][1] >= end_char:\n",
    "                idx -= 1\n",
    "            end_positions.append(idx + 1)\n",
    "\n",
    "    inputs[\"start_positions\"] = start_positions\n",
    "    inputs[\"end_positions\"] = end_positions\n",
    "    return inputs"
   ]
  },
  {
   "cell_type": "code",
   "execution_count": 13,
   "metadata": {},
   "outputs": [],
   "source": [
    "i = 0\n",
    "for value in quac_train[\"answers\"]:\n",
    "    if (value[\"text\"]==['CANNOTANSWER']):\n",
    "        quac_train = quac_train.drop(i)\n",
    "    # print(value)\n",
    "    i += 1\n",
    "\n",
    "j = 0\n",
    "for value in quac_val[\"answers\"]:\n",
    "    if (value[\"text\"][0]=='CANNOTANSWER'):\n",
    "        quac_val = quac_val.drop(j)\n",
    "    # print(value)\n",
    "    j += 1\n",
    "    \n",
    "quac_train = quac_train.reset_index(drop=True)\n",
    "quac_val = quac_val.reset_index(drop=True)"
   ]
  },
  {
   "cell_type": "code",
   "execution_count": 14,
   "metadata": {},
   "outputs": [],
   "source": [
    "def add_history(row):\n",
    "    question_no = row[\"question_no\"]\n",
    "    prev_QA = row[\"prev_QA\"]\n",
    "    if (question_no == 1):\n",
    "        return (row[\"question\"])\n",
    "    elif (question_no == 2):\n",
    "        try: \n",
    "            prev_ans = prev_QA[question_no - 2][1][0][0]\n",
    "        except: \n",
    "            return (row[\"question\"])\n",
    "        prev_question = prev_QA[question_no - 2][0][0]\n",
    "        return (prev_question + \" \" + prev_ans + \" \" + row[\"question\"])\n",
    "    else:\n",
    "        try: \n",
    "            prev_ans_1 = prev_QA[question_no - 2][1][0][0]\n",
    "            prev_ans_2 = prev_QA[question_no - 3][1][0][0]\n",
    "        except: \n",
    "            return (row[\"question\"])\n",
    "        prev_question_1 = prev_QA[question_no - 2][0][0] \n",
    "        prev_question_2 = prev_QA[question_no - 3][0][0] \n",
    "    #     print(prev_ans)\n",
    "        return (prev_question_2 + \" \" + prev_ans_2 + \" \" + prev_question_1 + \" \" + prev_ans_1 + \" \" + row[\"question\"])\n",
    "\n",
    "quac_train['question'] = quac_train.apply(lambda row: add_history(row), axis=1)\n",
    "quac_val['question'] = quac_val.apply(lambda row: add_history(row), axis=1)"
   ]
  },
  {
   "cell_type": "code",
   "execution_count": 15,
   "metadata": {},
   "outputs": [
    {
     "data": {
      "text/plain": [
       "'Do they speak any other languages? Malayalam is derived from old Tamil and Sanskrit in the 6th century. any literary items of interest? Malayalam literature is ancient in origin. The oldest literature works in Malayalam, distinct from the Tamil tradition, How old is their literature?'"
      ]
     },
     "execution_count": 15,
     "metadata": {},
     "output_type": "execute_result"
    }
   ],
   "source": [
    "quac_train['question'][7]"
   ]
  },
  {
   "cell_type": "code",
   "execution_count": 16,
   "metadata": {},
   "outputs": [],
   "source": [
    "from datasets import Dataset\n",
    "quac_train_dataset = quac_train.drop(['question_no', 'prev_QA'], axis=1)\n",
    "quac_val_dataset = quac_val.drop(['question_no', 'prev_QA'], axis=1)\n",
    "\n",
    "quac_train = quac_train.drop(['question_no', 'prev_QA'], axis=1)\n",
    "quac_val = quac_val.drop(['question_no', 'prev_QA'], axis=1)\n",
    "\n",
    "quac_train.rename(columns={'dialogue_id': 'id', 'section_title': 'title'}, inplace=True)\n",
    "quac_val.rename(columns={'dialogue_id': 'id', 'section_title': 'title'}, inplace=True)\n",
    "\n",
    "quac_train_dataset = Dataset.from_pandas(quac_train)\n",
    "quac_val_dataset = Dataset.from_pandas(quac_val)"
   ]
  },
  {
   "cell_type": "code",
   "execution_count": 17,
   "metadata": {},
   "outputs": [],
   "source": [
    "quac_train = quac_train.reset_index(drop=True)\n",
    "quac_val = quac_val.reset_index(drop=True)"
   ]
  },
  {
   "cell_type": "markdown",
   "metadata": {},
   "source": [
    "quac_train"
   ]
  },
  {
   "cell_type": "code",
   "execution_count": 18,
   "metadata": {},
   "outputs": [],
   "source": [
    "quac_train_test = quac_train_dataset.train_test_split(test_size=0.01)\n",
    "quac_val_test = quac_val_dataset.train_test_split(test_size=0.01)"
   ]
  },
  {
   "cell_type": "code",
   "execution_count": 19,
   "metadata": {},
   "outputs": [
    {
     "data": {
      "text/plain": [
       "{'text': ['she gave birth to her daughter Sofia.',\n",
       "  'in 1975 and in November she gave birth to her daughter Sofia.',\n",
       "  'her daughter Sofia.',\n",
       "  'in November she gave birth to her daughter Sofia.'],\n",
       " 'answer_start': [104, 80, 122, 92]}"
      ]
     },
     "execution_count": 19,
     "metadata": {},
     "output_type": "execute_result"
    }
   ],
   "source": [
    "from datasets.dataset_dict import DatasetDict\n",
    "\n",
    "quac_new = DatasetDict({'train': quac_train_dataset, 'validation': quac_val_dataset})\n",
    "quac_test = DatasetDict({'train': quac_train_test[\"test\"], 'validation': quac_val_test[\"test\"]})\n",
    "quac_val[\"answers\"][1]"
   ]
  },
  {
   "cell_type": "markdown",
   "metadata": {},
   "source": [
    "# Tokenize & train model"
   ]
  },
  {
   "cell_type": "code",
   "execution_count": 20,
   "metadata": {},
   "outputs": [
    {
     "data": {
      "application/vnd.jupyter.widget-view+json": {
       "model_id": "ed2dfcfdfba84259b3cd83a94106a613",
       "version_major": 2,
       "version_minor": 0
      },
      "text/plain": [
       "  0%|          | 0/70 [00:00<?, ?ba/s]"
      ]
     },
     "metadata": {},
     "output_type": "display_data"
    },
    {
     "data": {
      "application/vnd.jupyter.widget-view+json": {
       "model_id": "54f5b9453ab94d028983a1ddd189fdb4",
       "version_major": 2,
       "version_minor": 0
      },
      "text/plain": [
       "  0%|          | 0/6 [00:00<?, ?ba/s]"
      ]
     },
     "metadata": {},
     "output_type": "display_data"
    }
   ],
   "source": [
    "# tokenized_quac = quac_new.map(preprocess_function_squad, batched=True)\n",
    "# tokenized_quac = quac_new.map(preprocess_function, batched=True, remove_columns=quac_new[\"train\"].column_names)\n",
    "tokenized_quac = quac_new.map(prepare_train_features, batched=True, remove_columns=quac_new[\"train\"].column_names)"
   ]
  },
  {
   "cell_type": "code",
   "execution_count": 21,
   "metadata": {},
   "outputs": [],
   "source": [
    "# tokenized_quac_test = quac_test.map(preprocess_function_squad, batched=True)\n",
    "# tokenized_quac_test = quac_test.map(preprocess_function, batched=True, remove_columns=quac_test[\"train\"].column_names)\n",
    "# tokenized_quac_test = quac_test.map(prepare_train_features, batched=True, remove_columns=quac_test[\"train\"].column_names)\n",
    "\n"
   ]
  },
  {
   "cell_type": "code",
   "execution_count": 22,
   "metadata": {},
   "outputs": [
    {
     "name": "stderr",
     "output_type": "stream",
     "text": [
      "Some weights of the model checkpoint at bert-base-uncased were not used when initializing BertForQuestionAnswering: ['cls.predictions.transform.LayerNorm.bias', 'cls.predictions.transform.dense.weight', 'cls.seq_relationship.weight', 'cls.seq_relationship.bias', 'cls.predictions.decoder.weight', 'cls.predictions.bias', 'cls.predictions.transform.LayerNorm.weight', 'cls.predictions.transform.dense.bias']\n",
      "- This IS expected if you are initializing BertForQuestionAnswering from the checkpoint of a model trained on another task or with another architecture (e.g. initializing a BertForSequenceClassification model from a BertForPreTraining model).\n",
      "- This IS NOT expected if you are initializing BertForQuestionAnswering from the checkpoint of a model that you expect to be exactly identical (initializing a BertForSequenceClassification model from a BertForSequenceClassification model).\n",
      "Some weights of BertForQuestionAnswering were not initialized from the model checkpoint at bert-base-uncased and are newly initialized: ['qa_outputs.weight', 'qa_outputs.bias']\n",
      "You should probably TRAIN this model on a down-stream task to be able to use it for predictions and inference.\n"
     ]
    }
   ],
   "source": [
    "from transformers import DefaultDataCollator, EarlyStoppingCallback, IntervalStrategy\n",
    "\n",
    "data_collator = DefaultDataCollator()\n",
    "\n",
    "from transformers import AutoModelForQuestionAnswering, TrainingArguments, Trainer\n",
    "\n",
    "model_base = AutoModelForQuestionAnswering.from_pretrained(\"bert-base-uncased\")\n",
    "# tokenizer = AutoTokenizer.from_pretrained(\"bert-base-uncased\", model_max_length=512)\n",
    "\n",
    "# model_base = AutoModelForQuestionAnswering.from_pretrained(\"bert-large-uncased\")"
   ]
  },
  {
   "cell_type": "code",
   "execution_count": 24,
   "metadata": {},
   "outputs": [
    {
     "data": {
      "text/plain": [
       "BertConfig {\n",
       "  \"_name_or_path\": \"bert-base-uncased\",\n",
       "  \"architectures\": [\n",
       "    \"BertForMaskedLM\"\n",
       "  ],\n",
       "  \"attention_probs_dropout_prob\": 0.1,\n",
       "  \"classifier_dropout\": null,\n",
       "  \"gradient_checkpointing\": false,\n",
       "  \"hidden_act\": \"gelu\",\n",
       "  \"hidden_dropout_prob\": 0.1,\n",
       "  \"hidden_size\": 768,\n",
       "  \"initializer_range\": 0.02,\n",
       "  \"intermediate_size\": 3072,\n",
       "  \"layer_norm_eps\": 1e-12,\n",
       "  \"max_position_embeddings\": 512,\n",
       "  \"model_type\": \"bert\",\n",
       "  \"num_attention_heads\": 12,\n",
       "  \"num_hidden_layers\": 12,\n",
       "  \"pad_token_id\": 0,\n",
       "  \"position_embedding_type\": \"absolute\",\n",
       "  \"transformers_version\": \"4.18.0\",\n",
       "  \"type_vocab_size\": 2,\n",
       "  \"use_cache\": true,\n",
       "  \"vocab_size\": 30522\n",
       "}"
      ]
     },
     "execution_count": 24,
     "metadata": {},
     "output_type": "execute_result"
    }
   ],
   "source": [
    "model_base.config"
   ]
  },
  {
   "cell_type": "code",
   "execution_count": 24,
   "metadata": {},
   "outputs": [
    {
     "name": "stdout",
     "output_type": "stream",
     "text": [
      "Login successful\n",
      "Your token has been saved to /home/jelle-van-der-lee/.huggingface/token\n",
      "\u001b[1m\u001b[31mAuthenticated through git-credential store but this isn't the helper defined on your machine.\n",
      "You might have to re-authenticate when pushing to the Hugging Face Hub. Run the following command in your terminal in case you want to set this credential helper as the default\n",
      "\n",
      "git config --global credential.helper store\u001b[0m\n"
     ]
    }
   ],
   "source": [
    "from huggingface_hub import notebook_login\n",
    "\n",
    "notebook_login()"
   ]
  },
  {
   "cell_type": "code",
   "execution_count": 25,
   "metadata": {},
   "outputs": [
    {
     "name": "stderr",
     "output_type": "stream",
     "text": [
      "Failed to detect the name of this notebook, you can set it manually with the WANDB_NOTEBOOK_NAME environment variable to enable code saving.\n",
      "\u001b[34m\u001b[1mwandb\u001b[0m: Currently logged in as: \u001b[33mjellemvdl\u001b[0m. Use \u001b[1m`wandb login --relogin`\u001b[0m to force relogin\n"
     ]
    },
    {
     "data": {
      "text/plain": [
       "True"
      ]
     },
     "execution_count": 25,
     "metadata": {},
     "output_type": "execute_result"
    }
   ],
   "source": [
    "# !pip3 install wandb\n",
    "import wandb\n",
    "wandb.login()"
   ]
  },
  {
   "cell_type": "code",
   "execution_count": 26,
   "metadata": {},
   "outputs": [
    {
     "name": "stdout",
     "output_type": "stream",
     "text": [
      "env: WANDB_PROJECT=bsc_AI_thesis\n"
     ]
    }
   ],
   "source": [
    "%env WANDB_PROJECT=bsc_AI_thesis"
   ]
  },
  {
   "cell_type": "code",
   "execution_count": 24,
   "metadata": {},
   "outputs": [],
   "source": [
    "import torch\n",
    "# torch.cuda.empty_cache()\n",
    "foo = torch.tensor([1,2,3])\n",
    "foo = foo.to('cuda')"
   ]
  },
  {
   "cell_type": "code",
   "execution_count": 35,
   "metadata": {},
   "outputs": [
    {
     "data": {
      "text/plain": [
       "'Where is Malayali located? 30,803,747 speakers of Malayalam in Kerala, making up 93.2% of the total number of Malayalam speakers in India, What other languages are spoken there? 33,015,420 spoke the standard dialects, 19,643 spoke the Yerava dialect and 31,329 spoke non-standard regional variations like Eranadan. What else is this place known for?'"
      ]
     },
     "execution_count": 35,
     "metadata": {},
     "output_type": "execute_result"
    }
   ],
   "source": [
    "quac_train['question'][2]"
   ]
  },
  {
   "cell_type": "code",
   "execution_count": 70,
   "metadata": {},
   "outputs": [
    {
     "name": "stderr",
     "output_type": "stream",
     "text": [
      "Cloning https://huggingface.co/Jellevdl/bert-base-uncased-finetuned-quac-2QA-History into local empty directory.\n",
      "/home/jelle-van-der-lee/.local/lib/python3.6/site-packages/transformers/optimization.py:309: FutureWarning: This implementation of AdamW is deprecated and will be removed in a future version. Use the PyTorch implementation torch.optim.AdamW instead, or set `no_deprecation_warning=True` to disable this warning\n",
      "  FutureWarning,\n",
      "***** Running training *****\n",
      "  Num examples = 168114\n",
      "  Num Epochs = 30\n",
      "  Instantaneous batch size per device = 12\n",
      "  Total train batch size (w. parallel, distributed & accumulation) = 12\n",
      "  Gradient Accumulation steps = 1\n",
      "  Total optimization steps = 420300\n",
      "Automatic Weights & Biases logging enabled, to disable set os.environ[\"WANDB_DISABLED\"] = \"true\"\n"
     ]
    },
    {
     "data": {
      "text/html": [
       "Changes to your `wandb` environment variables will be ignored because your `wandb` session has already started. For more information on how to modify your settings with `wandb.init()` arguments, please refer to <a href=\"https://wandb.me/wandb-init\" target=\"_blank\">the W&B docs</a>."
      ],
      "text/plain": [
       "<IPython.core.display.HTML object>"
      ]
     },
     "metadata": {},
     "output_type": "display_data"
    },
    {
     "data": {
      "text/html": [
       "Tracking run with wandb version 0.13.7"
      ],
      "text/plain": [
       "<IPython.core.display.HTML object>"
      ]
     },
     "metadata": {},
     "output_type": "display_data"
    },
    {
     "data": {
      "text/html": [
       "Run data is saved locally in <code>/home/jelle-van-der-lee/venv/wandb/run-20221219_152815-2kbfwww7</code>"
      ],
      "text/plain": [
       "<IPython.core.display.HTML object>"
      ]
     },
     "metadata": {},
     "output_type": "display_data"
    },
    {
     "data": {
      "text/html": [
       "Syncing run <strong><a href=\"https://wandb.ai/jellemvdl/bsc_AI_thesis/runs/2kbfwww7\" target=\"_blank\">bert-base-uncased-finetuned-quac-2QA-History</a></strong> to <a href=\"https://wandb.ai/jellemvdl/bsc_AI_thesis\" target=\"_blank\">Weights & Biases</a> (<a href=\"https://wandb.me/run\" target=\"_blank\">docs</a>)<br/>"
      ],
      "text/plain": [
       "<IPython.core.display.HTML object>"
      ]
     },
     "metadata": {},
     "output_type": "display_data"
    },
    {
     "data": {
      "text/html": [
       "\n",
       "    <div>\n",
       "      \n",
       "      <progress value='37500' max='420300' style='width:300px; height:20px; vertical-align: middle;'></progress>\n",
       "      [ 37500/420300 3:57:51 < 40:28:15, 2.63 it/s, Epoch 2/30]\n",
       "    </div>\n",
       "    <table border=\"1\" class=\"dataframe\">\n",
       "  <thead>\n",
       " <tr style=\"text-align: left;\">\n",
       "      <th>Step</th>\n",
       "      <th>Training Loss</th>\n",
       "      <th>Validation Loss</th>\n",
       "    </tr>\n",
       "  </thead>\n",
       "  <tbody>\n",
       "    <tr>\n",
       "      <td>3125</td>\n",
       "      <td>2.075900</td>\n",
       "      <td>1.982329</td>\n",
       "    </tr>\n",
       "    <tr>\n",
       "      <td>6250</td>\n",
       "      <td>1.883000</td>\n",
       "      <td>1.842735</td>\n",
       "    </tr>\n",
       "    <tr>\n",
       "      <td>9375</td>\n",
       "      <td>1.813400</td>\n",
       "      <td>1.852739</td>\n",
       "    </tr>\n",
       "    <tr>\n",
       "      <td>12500</td>\n",
       "      <td>1.785900</td>\n",
       "      <td>1.784662</td>\n",
       "    </tr>\n",
       "    <tr>\n",
       "      <td>15625</td>\n",
       "      <td>1.548300</td>\n",
       "      <td>1.801316</td>\n",
       "    </tr>\n",
       "    <tr>\n",
       "      <td>18750</td>\n",
       "      <td>1.539900</td>\n",
       "      <td>1.816233</td>\n",
       "    </tr>\n",
       "    <tr>\n",
       "      <td>21875</td>\n",
       "      <td>1.580100</td>\n",
       "      <td>1.775361</td>\n",
       "    </tr>\n",
       "    <tr>\n",
       "      <td>25000</td>\n",
       "      <td>1.521000</td>\n",
       "      <td>1.785120</td>\n",
       "    </tr>\n",
       "    <tr>\n",
       "      <td>28125</td>\n",
       "      <td>1.554200</td>\n",
       "      <td>1.991099</td>\n",
       "    </tr>\n",
       "    <tr>\n",
       "      <td>31250</td>\n",
       "      <td>1.155600</td>\n",
       "      <td>2.101952</td>\n",
       "    </tr>\n",
       "    <tr>\n",
       "      <td>34375</td>\n",
       "      <td>1.187000</td>\n",
       "      <td>2.062776</td>\n",
       "    </tr>\n",
       "    <tr>\n",
       "      <td>37500</td>\n",
       "      <td>1.220300</td>\n",
       "      <td>1.952091</td>\n",
       "    </tr>\n",
       "  </tbody>\n",
       "</table><p>"
      ],
      "text/plain": [
       "<IPython.core.display.HTML object>"
      ]
     },
     "metadata": {},
     "output_type": "display_data"
    },
    {
     "name": "stderr",
     "output_type": "stream",
     "text": [
      "***** Running Evaluation *****\n",
      "  Num examples = 16104\n",
      "  Batch size = 12\n",
      "***** Running Evaluation *****\n",
      "  Num examples = 16104\n",
      "  Batch size = 12\n",
      "Saving model checkpoint to bert-base-uncased-finetuned-quac-2QA-History/checkpoint-6250\n",
      "Configuration saved in bert-base-uncased-finetuned-quac-2QA-History/checkpoint-6250/config.json\n",
      "Model weights saved in bert-base-uncased-finetuned-quac-2QA-History/checkpoint-6250/pytorch_model.bin\n",
      "tokenizer config file saved in bert-base-uncased-finetuned-quac-2QA-History/checkpoint-6250/tokenizer_config.json\n",
      "Special tokens file saved in bert-base-uncased-finetuned-quac-2QA-History/checkpoint-6250/special_tokens_map.json\n",
      "tokenizer config file saved in bert-base-uncased-finetuned-quac-2QA-History/tokenizer_config.json\n",
      "Special tokens file saved in bert-base-uncased-finetuned-quac-2QA-History/special_tokens_map.json\n",
      "***** Running Evaluation *****\n",
      "  Num examples = 16104\n",
      "  Batch size = 12\n",
      "***** Running Evaluation *****\n",
      "  Num examples = 16104\n",
      "  Batch size = 12\n",
      "Saving model checkpoint to bert-base-uncased-finetuned-quac-2QA-History/checkpoint-12500\n",
      "Configuration saved in bert-base-uncased-finetuned-quac-2QA-History/checkpoint-12500/config.json\n",
      "Model weights saved in bert-base-uncased-finetuned-quac-2QA-History/checkpoint-12500/pytorch_model.bin\n",
      "tokenizer config file saved in bert-base-uncased-finetuned-quac-2QA-History/checkpoint-12500/tokenizer_config.json\n",
      "Special tokens file saved in bert-base-uncased-finetuned-quac-2QA-History/checkpoint-12500/special_tokens_map.json\n",
      "***** Running Evaluation *****\n",
      "  Num examples = 16104\n",
      "  Batch size = 12\n",
      "***** Running Evaluation *****\n",
      "  Num examples = 16104\n",
      "  Batch size = 12\n",
      "Saving model checkpoint to bert-base-uncased-finetuned-quac-2QA-History/checkpoint-18750\n",
      "Configuration saved in bert-base-uncased-finetuned-quac-2QA-History/checkpoint-18750/config.json\n",
      "Model weights saved in bert-base-uncased-finetuned-quac-2QA-History/checkpoint-18750/pytorch_model.bin\n",
      "tokenizer config file saved in bert-base-uncased-finetuned-quac-2QA-History/checkpoint-18750/tokenizer_config.json\n",
      "Special tokens file saved in bert-base-uncased-finetuned-quac-2QA-History/checkpoint-18750/special_tokens_map.json\n",
      "Deleting older checkpoint [bert-base-uncased-finetuned-quac-2QA-History/checkpoint-6250] due to args.save_total_limit\n",
      "***** Running Evaluation *****\n",
      "  Num examples = 16104\n",
      "  Batch size = 12\n",
      "***** Running Evaluation *****\n",
      "  Num examples = 16104\n",
      "  Batch size = 12\n",
      "Saving model checkpoint to bert-base-uncased-finetuned-quac-2QA-History/checkpoint-25000\n",
      "Configuration saved in bert-base-uncased-finetuned-quac-2QA-History/checkpoint-25000/config.json\n",
      "Model weights saved in bert-base-uncased-finetuned-quac-2QA-History/checkpoint-25000/pytorch_model.bin\n",
      "tokenizer config file saved in bert-base-uncased-finetuned-quac-2QA-History/checkpoint-25000/tokenizer_config.json\n",
      "Special tokens file saved in bert-base-uncased-finetuned-quac-2QA-History/checkpoint-25000/special_tokens_map.json\n",
      "Deleting older checkpoint [bert-base-uncased-finetuned-quac-2QA-History/checkpoint-18750] due to args.save_total_limit\n",
      "***** Running Evaluation *****\n",
      "  Num examples = 16104\n",
      "  Batch size = 12\n",
      "***** Running Evaluation *****\n",
      "  Num examples = 16104\n",
      "  Batch size = 12\n",
      "Saving model checkpoint to bert-base-uncased-finetuned-quac-2QA-History/checkpoint-31250\n",
      "Configuration saved in bert-base-uncased-finetuned-quac-2QA-History/checkpoint-31250/config.json\n",
      "Model weights saved in bert-base-uncased-finetuned-quac-2QA-History/checkpoint-31250/pytorch_model.bin\n",
      "tokenizer config file saved in bert-base-uncased-finetuned-quac-2QA-History/checkpoint-31250/tokenizer_config.json\n",
      "Special tokens file saved in bert-base-uncased-finetuned-quac-2QA-History/checkpoint-31250/special_tokens_map.json\n",
      "Deleting older checkpoint [bert-base-uncased-finetuned-quac-2QA-History/checkpoint-25000] due to args.save_total_limit\n",
      "***** Running Evaluation *****\n",
      "  Num examples = 16104\n",
      "  Batch size = 12\n",
      "***** Running Evaluation *****\n",
      "  Num examples = 16104\n",
      "  Batch size = 12\n",
      "Saving model checkpoint to bert-base-uncased-finetuned-quac-2QA-History/checkpoint-37500\n",
      "Configuration saved in bert-base-uncased-finetuned-quac-2QA-History/checkpoint-37500/config.json\n",
      "Model weights saved in bert-base-uncased-finetuned-quac-2QA-History/checkpoint-37500/pytorch_model.bin\n",
      "tokenizer config file saved in bert-base-uncased-finetuned-quac-2QA-History/checkpoint-37500/tokenizer_config.json\n",
      "Special tokens file saved in bert-base-uncased-finetuned-quac-2QA-History/checkpoint-37500/special_tokens_map.json\n",
      "Deleting older checkpoint [bert-base-uncased-finetuned-quac-2QA-History/checkpoint-31250] due to args.save_total_limit\n",
      "\n",
      "\n",
      "Training completed. Do not forget to share your model on huggingface.co/models =)\n",
      "\n",
      "\n",
      "Loading best model from bert-base-uncased-finetuned-quac-2QA-History/checkpoint-12500 (score: 1.7846617698669434).\n"
     ]
    },
    {
     "data": {
      "text/plain": [
       "TrainOutput(global_step=37500, training_loss=1.6019872591145834, metrics={'train_runtime': 14272.9971, 'train_samples_per_second': 353.354, 'train_steps_per_second': 29.447, 'total_flos': 8.818530372758938e+16, 'train_loss': 1.6019872591145834, 'epoch': 2.68})"
      ]
     },
     "execution_count": 70,
     "metadata": {},
     "output_type": "execute_result"
    }
   ],
   "source": [
    "# training_args = TrainingArguments(\n",
    "#     output_dir=\"./results\",\n",
    "#     evaluation_strategy=\"epoch\",\n",
    "#     learning_rate=2e-5,\n",
    "#     per_device_train_batch_size=16,\n",
    "#     per_device_eval_batch_size=16,\n",
    "#     num_train_epochs=3,\n",
    "#     weight_decay=0.01,\n",
    "#     loggings_steps=50,\n",
    "#     push_to_hub=True\n",
    "# )\n",
    "\n",
    "# model_name = model_checkpoint.split(\"/\")[-1]\n",
    "model_name = (\"bert-base-uncased\").split(\"/\")[-1]\n",
    "args = TrainingArguments(\n",
    "    f\"{model_name}-finetuned-quac-2QA-History-v3\",\n",
    "#     evaluation_strategy = \"epoch\",\n",
    "    evaluation_strategy = IntervalStrategy.STEPS,\n",
    "    learning_rate=3e-5,\n",
    "    per_device_train_batch_size=12,\n",
    "    per_device_eval_batch_size=12,\n",
    "    num_train_epochs=30,\n",
    "    eval_steps = 3125,\n",
    "    save_steps = 6250,\n",
    "    weight_decay=0.01,\n",
    "    push_to_hub=True,\n",
    "#     metric_for_best_model = 'f1',\n",
    "    save_total_limit = 2,\n",
    "#     load_best_model_at_end=True,\n",
    "    report_to=\"wandb\",\n",
    "    run_name=\"bert-base-uncased-finetuned-quac-2QA-History-v3\"\n",
    "#     label_names = [\"start_positions\", \"end_positions\"]\n",
    "    #     logging_steps=50,\n",
    ")\n",
    "\n",
    "# trainer_squad = Trainer(\n",
    "#     model=model_base,\n",
    "#     args=training_args,\n",
    "#     train_dataset=tokenized_squad[\"train\"],\n",
    "#     eval_dataset=tokenized_squad[\"validation\"],\n",
    "#     tokenizer=tokenizer,\n",
    "#     data_collator=data_collator,\n",
    "# )\n",
    "# trainer_squad.train()\n",
    "\n",
    "trainer_quac = Trainer(\n",
    "    model=model_base,\n",
    "    args=args,\n",
    "    train_dataset=tokenized_quac[\"train\"],\n",
    "    eval_dataset=tokenized_quac[\"validation\"],\n",
    "    tokenizer=tokenizer,\n",
    "    callbacks = [EarlyStoppingCallback(early_stopping_patience=5)],\n",
    "    data_collator=data_collator\n",
    ")\n",
    "trainer_quac.train()\n",
    "\n",
    "# trainer_test = Trainer(\n",
    "#     model=model_base,\n",
    "#     args=training_args,\n",
    "#     train_dataset=tokenized_quac_test[\"train\"],\n",
    "#     eval_dataset=tokenized_quac_test[\"validation\"],\n",
    "#     tokenizer=tokenizer,\n",
    "#     data_collator=data_collator,\n",
    "# )\n",
    "\n",
    "# trainer_test = Trainer(\n",
    "#     model_base,\n",
    "#     args,\n",
    "#     train_dataset=tokenized_quac_test[\"train\"],\n",
    "#     eval_dataset=tokenized_quac_test[\"validation\"],\n",
    "#     data_collator=data_collator,\n",
    "#     tokenizer=tokenizer,\n",
    "# )\n",
    "# trainer_test.train()"
   ]
  },
  {
   "cell_type": "code",
   "execution_count": 71,
   "metadata": {},
   "outputs": [
    {
     "data": {
      "text/html": [
       "Waiting for W&B process to finish... <strong style=\"color:green\">(success).</strong>"
      ],
      "text/plain": [
       "<IPython.core.display.HTML object>"
      ]
     },
     "metadata": {},
     "output_type": "display_data"
    },
    {
     "data": {
      "application/vnd.jupyter.widget-view+json": {
       "model_id": "ef91f329ce354698b6f4eef04b8aedd1",
       "version_major": 2,
       "version_minor": 0
      },
      "text/plain": [
       "VBox(children=(Label(value='0.003 MB of 0.003 MB uploaded (0.000 MB deduped)\\r'), FloatProgress(value=1.0, max…"
      ]
     },
     "metadata": {},
     "output_type": "display_data"
    },
    {
     "data": {
      "text/html": [
       "<style>\n",
       "    table.wandb td:nth-child(1) { padding: 0 10px; text-align: left ; width: auto;} td:nth-child(2) {text-align: left ; width: 100%}\n",
       "    .wandb-row { display: flex; flex-direction: row; flex-wrap: wrap; justify-content: flex-start; width: 100% }\n",
       "    .wandb-col { display: flex; flex-direction: column; flex-basis: 100%; flex: 1; padding: 10px; }\n",
       "    </style>\n",
       "<div class=\"wandb-row\"><div class=\"wandb-col\"><h3>Run history:</h3><br/><table class=\"wandb\"><tr><td>eval/loss</td><td>▅▂▃▁▂▂▁▁▆█▇▅</td></tr><tr><td>eval/runtime</td><td>▇█▆▅▇▇▂▁▃▃▂▂</td></tr><tr><td>eval/samples_per_second</td><td>▂▁▃▄▂▂▇█▆▆▇▇</td></tr><tr><td>eval/steps_per_second</td><td>▁▁▃▄▂▂▇█▇▆▇█</td></tr><tr><td>train/epoch</td><td>▁▁▁▁▂▂▂▂▂▃▃▃▃▃▄▄▄▄▄▄▅▅▅▅▅▆▆▆▆▆▆▇▇▇▇▇████</td></tr><tr><td>train/global_step</td><td>▁▁▁▁▂▂▂▂▂▃▃▃▃▃▄▄▄▄▄▄▅▅▅▅▅▆▆▆▆▆▆▇▇▇▇▇████</td></tr><tr><td>train/learning_rate</td><td>████▇▇▇▇▇▆▆▆▆▆▆▅▅▅▅▅▅▄▄▄▄▄▃▃▃▃▃▃▂▂▂▂▂▁▁▁</td></tr><tr><td>train/loss</td><td>█▇▆▅▅▅▄▄▄▄▄▄▄▄▄▃▃▃▃▃▃▃▃▃▃▃▃▃▃▃▁▁▁▁▁▁▁▁▁▁</td></tr><tr><td>train/total_flos</td><td>▁</td></tr><tr><td>train/train_loss</td><td>▁</td></tr><tr><td>train/train_runtime</td><td>▁</td></tr><tr><td>train/train_samples_per_second</td><td>▁</td></tr><tr><td>train/train_steps_per_second</td><td>▁</td></tr></table><br/></div><div class=\"wandb-col\"><h3>Run summary:</h3><br/><table class=\"wandb\"><tr><td>eval/loss</td><td>1.95209</td></tr><tr><td>eval/runtime</td><td>144.5526</td></tr><tr><td>eval/samples_per_second</td><td>111.406</td></tr><tr><td>eval/steps_per_second</td><td>9.284</td></tr><tr><td>train/epoch</td><td>2.68</td></tr><tr><td>train/global_step</td><td>37500</td></tr><tr><td>train/learning_rate</td><td>3e-05</td></tr><tr><td>train/loss</td><td>1.2203</td></tr><tr><td>train/total_flos</td><td>8.818530372758938e+16</td></tr><tr><td>train/train_loss</td><td>1.60199</td></tr><tr><td>train/train_runtime</td><td>14272.9971</td></tr><tr><td>train/train_samples_per_second</td><td>353.354</td></tr><tr><td>train/train_steps_per_second</td><td>29.447</td></tr></table><br/></div></div>"
      ],
      "text/plain": [
       "<IPython.core.display.HTML object>"
      ]
     },
     "metadata": {},
     "output_type": "display_data"
    },
    {
     "data": {
      "text/html": [
       "Synced <strong style=\"color:#cdcd00\">bert-base-uncased-finetuned-quac-2QA-History</strong>: <a href=\"https://wandb.ai/jellemvdl/bsc_AI_thesis/runs/2kbfwww7\" target=\"_blank\">https://wandb.ai/jellemvdl/bsc_AI_thesis/runs/2kbfwww7</a><br/>Synced 5 W&B file(s), 0 media file(s), 0 artifact file(s) and 0 other file(s)"
      ],
      "text/plain": [
       "<IPython.core.display.HTML object>"
      ]
     },
     "metadata": {},
     "output_type": "display_data"
    },
    {
     "data": {
      "text/html": [
       "Find logs at: <code>./wandb/run-20221219_152815-2kbfwww7/logs</code>"
      ],
      "text/plain": [
       "<IPython.core.display.HTML object>"
      ]
     },
     "metadata": {},
     "output_type": "display_data"
    }
   ],
   "source": [
    "wandb.finish()"
   ]
  },
  {
   "cell_type": "code",
   "execution_count": null,
   "metadata": {},
   "outputs": [],
   "source": [
    "pt_model = AutoTokenizer.from_pretrained(\"bert-base-uncased-finetuned-quac/checkpoint-29000\", from_tf=True)\n",
    "pt_model.save_pretrained(\"bert-base-uncased-finetuned-quac/final\")"
   ]
  },
  {
   "cell_type": "code",
   "execution_count": null,
   "metadata": {},
   "outputs": [],
   "source": [
    "from transformers import AutoModel\n",
    "\n",
    "model = AutoModel.from_pretrained(\"bert-base-uncased-finetuned-quac/checkpoint-29000\")\n",
    "# pt_model.push_to_hub(\"my-awesome-org/my-awesome-model\")\n"
   ]
  },
  {
   "cell_type": "code",
   "execution_count": null,
   "metadata": {},
   "outputs": [],
   "source": [
    "model.push_to_hub(\"bert-base-uncased-finetuned-quac-1\")"
   ]
  }
 ],
 "metadata": {
  "kernelspec": {
   "display_name": "Python 3",
   "language": "python",
   "name": "python3"
  },
  "language_info": {
   "codemirror_mode": {
    "name": "ipython",
    "version": 3
   },
   "file_extension": ".py",
   "mimetype": "text/x-python",
   "name": "python",
   "nbconvert_exporter": "python",
   "pygments_lexer": "ipython3",
   "version": "3.6.9"
  }
 },
 "nbformat": 4,
 "nbformat_minor": 2
}
